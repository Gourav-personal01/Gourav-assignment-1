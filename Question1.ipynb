{
 "cells": [
  {
   "cell_type": "code",
   "execution_count": 2,
   "id": "8f5edc54-8537-4b88-8c41-da859c786c85",
   "metadata": {},
   "outputs": [],
   "source": [
    "#String Variable\n",
    "a = \"Gourav\"\n",
    "#List Variable\n",
    "b = [1,2,3]\n",
    "#Float Variable\n",
    "c = 40.23\n",
    "#Tuple Variable\n",
    "d = (1,2,3)"
   ]
  },
  {
   "cell_type": "code",
   "execution_count": 4,
   "id": "e97da096-657c-4b30-bfbc-be9b0b2691f2",
   "metadata": {},
   "outputs": [
    {
     "name": "stdout",
     "output_type": "stream",
     "text": [
      "Gourav\n",
      "[1, 2, 3]\n",
      "40.23\n",
      "(1, 2, 3)\n"
     ]
    }
   ],
   "source": [
    "print(a)\n",
    "print(b)\n",
    "print(c)\n",
    "print(d)"
   ]
  },
  {
   "cell_type": "code",
   "execution_count": null,
   "id": "a366b0a1-026b-4659-9bbf-39a7368aaad2",
   "metadata": {},
   "outputs": [],
   "source": []
  }
 ],
 "metadata": {
  "kernelspec": {
   "display_name": "Python 3 (ipykernel)",
   "language": "python",
   "name": "python3"
  },
  "language_info": {
   "codemirror_mode": {
    "name": "ipython",
    "version": 3
   },
   "file_extension": ".py",
   "mimetype": "text/x-python",
   "name": "python",
   "nbconvert_exporter": "python",
   "pygments_lexer": "ipython3",
   "version": "3.10.8"
  }
 },
 "nbformat": 4,
 "nbformat_minor": 5
}
