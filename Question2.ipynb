{
 "cells": [
  {
   "cell_type": "code",
   "execution_count": 4,
   "id": "8f5edc54-8537-4b88-8c41-da859c786c85",
   "metadata": {},
   "outputs": [],
   "source": [
    "var1 = '' #string\n",
    "\n",
    "var2 = '[ DS , ML , Python]' # string\n",
    "\n",
    "var3 = [ 'DS', 'ML' , 'Python'] # List\n",
    "\n",
    "var4 = 1. #float"
   ]
  },
  {
   "cell_type": "code",
   "execution_count": null,
   "id": "a366b0a1-026b-4659-9bbf-39a7368aaad2",
   "metadata": {},
   "outputs": [],
   "source": []
  },
  {
   "cell_type": "code",
   "execution_count": null,
   "id": "adde8fae-1cb2-49a0-a66e-5429caa595dc",
   "metadata": {},
   "outputs": [],
   "source": []
  },
  {
   "cell_type": "code",
   "execution_count": null,
   "id": "80bf6ac6-f44d-43a3-b141-c74302e0e474",
   "metadata": {},
   "outputs": [],
   "source": []
  }
 ],
 "metadata": {
  "kernelspec": {
   "display_name": "Python 3 (ipykernel)",
   "language": "python",
   "name": "python3"
  },
  "language_info": {
   "codemirror_mode": {
    "name": "ipython",
    "version": 3
   },
   "file_extension": ".py",
   "mimetype": "text/x-python",
   "name": "python",
   "nbconvert_exporter": "python",
   "pygments_lexer": "ipython3",
   "version": "3.10.8"
  }
 },
 "nbformat": 4,
 "nbformat_minor": 5
}
