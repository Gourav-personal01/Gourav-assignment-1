{
 "cells": [
  {
   "cell_type": "code",
   "execution_count": 1,
   "id": "14e0a00c-bb2c-43e5-8007-7aea69ae0bf8",
   "metadata": {},
   "outputs": [
    {
     "name": "stdout",
     "output_type": "stream",
     "text": [
      "[1, 0, 3]\n"
     ]
    }
   ],
   "source": [
    "#Mutable data types are those for which we can change the items inside it\n",
    "#Example \n",
    "a = [1,2,3]\n",
    "a[1] = 0\n",
    "print(a)"
   ]
  },
  {
   "cell_type": "code",
   "execution_count": null,
   "id": "9eca964a-61c8-41f7-a0fc-0ae2654f2ccb",
   "metadata": {},
   "outputs": [],
   "source": [
    "# Immutable data types are those for which we can't change the items inside it\n",
    "#Examples\n",
    "a = (1,2,3)\n",
    "a[1] = 0\n",
    "print(a)"
   ]
  }
 ],
 "metadata": {
  "kernelspec": {
   "display_name": "Python 3 (ipykernel)",
   "language": "python",
   "name": "python3"
  },
  "language_info": {
   "codemirror_mode": {
    "name": "ipython",
    "version": 3
   },
   "file_extension": ".py",
   "mimetype": "text/x-python",
   "name": "python",
   "nbconvert_exporter": "python",
   "pygments_lexer": "ipython3",
   "version": "3.10.8"
  }
 },
 "nbformat": 4,
 "nbformat_minor": 5
}
