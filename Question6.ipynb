{
 "cells": [
  {
   "cell_type": "code",
   "execution_count": 2,
   "id": "e5bc74a0-ee25-432b-8f12-7b5975f64d9c",
   "metadata": {},
   "outputs": [
    {
     "name": "stdout",
     "output_type": "stream",
     "text": [
      "The list containing the Numbers which are divisible by 3 is - [0, 3, 6, 9, 12, 15, 18, 21, 24]\n"
     ]
    }
   ],
   "source": [
    "a = []\n",
    "for i in range(26):\n",
    "    if i%3 == 0:\n",
    "        a.append(i)\n",
    "        \n",
    "print(f\"The list containing the Numbers which are divisible by 3 is - {a}\")"
   ]
  },
  {
   "cell_type": "code",
   "execution_count": null,
   "id": "4466c714-662d-4efe-9199-97d02631f804",
   "metadata": {},
   "outputs": [],
   "source": []
  }
 ],
 "metadata": {
  "kernelspec": {
   "display_name": "Python 3 (ipykernel)",
   "language": "python",
   "name": "python3"
  },
  "language_info": {
   "codemirror_mode": {
    "name": "ipython",
    "version": 3
   },
   "file_extension": ".py",
   "mimetype": "text/x-python",
   "name": "python",
   "nbconvert_exporter": "python",
   "pygments_lexer": "ipython3",
   "version": "3.10.8"
  }
 },
 "nbformat": 4,
 "nbformat_minor": 5
}
